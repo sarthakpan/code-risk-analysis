{
  "nbformat": 4,
  "nbformat_minor": 0,
  "metadata": {
    "colab": {
      "name": "Code Bug Prediction",
      "provenance": []
    },
    "kernelspec": {
      "name": "python3",
      "display_name": "Python 3"
    },
    "language_info": {
      "name": "python"
    }
  },
  "cells": [
    {
      "cell_type": "markdown",
      "metadata": {
        "id": "iW4V9q4pk5I7"
      },
      "source": [
        "Clone Repository"
      ]
    },
    {
      "cell_type": "code",
      "metadata": {
        "colab": {
          "base_uri": "https://localhost:8080/"
        },
        "id": "UUrlINPPk2PR",
        "outputId": "3b82f367-93b3-47e7-cdc6-40ed4d5d9c91"
      },
      "source": [
        "!git clone https://github.com/TheAlgorithms/Java.git"
      ],
      "execution_count": 1,
      "outputs": [
        {
          "output_type": "stream",
          "text": [
            "Cloning into 'Java'...\n",
            "remote: Enumerating objects: 7651, done.\u001b[K\n",
            "remote: Counting objects: 100% (90/90), done.\u001b[K\n",
            "remote: Compressing objects: 100% (69/69), done.\u001b[K\n",
            "remote: Total 7651 (delta 40), reused 59 (delta 21), pack-reused 7561\u001b[K\n",
            "Receiving objects: 100% (7651/7651), 2.43 MiB | 15.65 MiB/s, done.\n",
            "Resolving deltas: 100% (3666/3666), done.\n"
          ],
          "name": "stdout"
        }
      ]
    },
    {
      "cell_type": "markdown",
      "metadata": {
        "id": "qzIdvtw2lAyW"
      },
      "source": [
        "Install Package"
      ]
    },
    {
      "cell_type": "code",
      "metadata": {
        "colab": {
          "base_uri": "https://localhost:8080/"
        },
        "id": "urnk0uMVk9_0",
        "outputId": "08045119-31d6-47f7-8783-204ee7a39774"
      },
      "source": [
        "!pip install multimetric"
      ],
      "execution_count": 2,
      "outputs": [
        {
          "output_type": "stream",
          "text": [
            "Collecting multimetric\n",
            "  Downloading https://files.pythonhosted.org/packages/d8/0d/e282c0e25d03e4225e0396da09df025768d807252ced26dc4829d27cd22b/multimetric-1.2.0.tar.gz\n",
            "Requirement already satisfied: chardet>=3.0.0 in /usr/local/lib/python3.7/dist-packages (from multimetric) (3.0.4)\n",
            "Requirement already satisfied: pygments>=2.5.0 in /usr/local/lib/python3.7/dist-packages (from multimetric) (2.6.1)\n",
            "Building wheels for collected packages: multimetric\n",
            "  Building wheel for multimetric (setup.py) ... \u001b[?25l\u001b[?25hdone\n",
            "  Created wheel for multimetric: filename=multimetric-1.2.0-cp37-none-any.whl size=21180 sha256=3cf1792a2a2dc1d651c5ba492f767565e4b884168875318f888cabcdbf82c20b\n",
            "  Stored in directory: /root/.cache/pip/wheels/39/c3/43/4cce68e6310c5a580eb28300085827b0162afa10ec48df028a\n",
            "Successfully built multimetric\n",
            "Installing collected packages: multimetric\n",
            "Successfully installed multimetric-1.2.0\n"
          ],
          "name": "stdout"
        }
      ]
    },
    {
      "cell_type": "markdown",
      "metadata": {
        "id": "YoHjj6xflIF3"
      },
      "source": [
        "Get Result for Repo in Json File"
      ]
    },
    {
      "cell_type": "code",
      "metadata": {
        "id": "RKb_Jw_ElDuK"
      },
      "source": [
        "!find /content/Java/ -name *.java -exec multimetric {} \\; -printf \",\\n\"\\ > results.json"
      ],
      "execution_count": 4,
      "outputs": []
    },
    {
      "cell_type": "markdown",
      "metadata": {
        "id": "fXcnhoAFlv8_"
      },
      "source": [
        "Json Formating"
      ]
    },
    {
      "cell_type": "code",
      "metadata": {
        "id": "7QFXwNwFls2g"
      },
      "source": [
        "!sed -i '$ d' /content/results.json\n",
        "!sed -i '$ d' /content/results.json\n",
        "!sed -i '1i [' /content/results.json\n",
        "!sed -i '$a ]' /content/results.json"
      ],
      "execution_count": 5,
      "outputs": []
    },
    {
      "cell_type": "markdown",
      "metadata": {
        "id": "A0BCo_bclWTP"
      },
      "source": [
        "Store result in CSV for better viewing"
      ]
    },
    {
      "cell_type": "code",
      "metadata": {
        "id": "p1-HhYZulS5o"
      },
      "source": [
        "import pandas as pd\n",
        "import json"
      ],
      "execution_count": 6,
      "outputs": []
    },
    {
      "cell_type": "code",
      "metadata": {
        "id": "ECCf_jCOl2f_"
      },
      "source": [
        "res_j = json.load(open('/content/results.json'))"
      ],
      "execution_count": 7,
      "outputs": []
    },
    {
      "cell_type": "code",
      "metadata": {
        "id": "rW1SKKg5l4DN"
      },
      "source": [
        "for element in res_j: \n",
        "        del element['stats']\n",
        "        fname = list(element['files'].keys())\n",
        "        element[fname[0]]=element['overall']\n",
        "        del element['overall']\n",
        "        del element['files']"
      ],
      "execution_count": 8,
      "outputs": []
    },
    {
      "cell_type": "code",
      "metadata": {
        "id": "h_337cJ6l5TJ"
      },
      "source": [
        "d=dict()\n",
        "for each in res_j:\n",
        "    d.update(each)"
      ],
      "execution_count": 9,
      "outputs": []
    },
    {
      "cell_type": "code",
      "metadata": {
        "id": "127EummGl7mC"
      },
      "source": [
        "df = pd.DataFrame.from_dict(d,orient='index')"
      ],
      "execution_count": 10,
      "outputs": []
    },
    {
      "cell_type": "code",
      "metadata": {
        "id": "MzT0PI-el8rN"
      },
      "source": [
        "df.to_csv('bug_java_pred.csv')"
      ],
      "execution_count": 11,
      "outputs": []
    },
    {
      "cell_type": "code",
      "metadata": {
        "id": "5Pe8a6iEl-SJ"
      },
      "source": [
        ""
      ],
      "execution_count": null,
      "outputs": []
    }
  ]
}